{
 "cells": [
  {
   "cell_type": "code",
   "execution_count": 40,
   "id": "17690867-11c7-4976-853b-91a1ed67d950",
   "metadata": {},
   "outputs": [],
   "source": [
    "import pandas as pd"
   ]
  },
  {
   "cell_type": "code",
   "execution_count": 41,
   "id": "f269e14a-cd01-4b1d-888a-42c327605127",
   "metadata": {},
   "outputs": [],
   "source": [
    "df=pd.read_csv(\"amazon_product.csv\")"
   ]
  },
  {
   "cell_type": "code",
   "execution_count": 42,
   "id": "87357e6a-664a-4d23-b1bb-0a1e16a39b20",
   "metadata": {},
   "outputs": [
    {
     "data": {
      "text/html": [
       "<div>\n",
       "<style scoped>\n",
       "    .dataframe tbody tr th:only-of-type {\n",
       "        vertical-align: middle;\n",
       "    }\n",
       "\n",
       "    .dataframe tbody tr th {\n",
       "        vertical-align: top;\n",
       "    }\n",
       "\n",
       "    .dataframe thead th {\n",
       "        text-align: right;\n",
       "    }\n",
       "</style>\n",
       "<table border=\"1\" class=\"dataframe\">\n",
       "  <thead>\n",
       "    <tr style=\"text-align: right;\">\n",
       "      <th></th>\n",
       "      <th>Unnamed: 0</th>\n",
       "      <th>asin</th>\n",
       "      <th>product_title</th>\n",
       "      <th>product_price</th>\n",
       "      <th>product_original_price</th>\n",
       "      <th>currency</th>\n",
       "      <th>product_star_rating</th>\n",
       "      <th>product_num_ratings</th>\n",
       "      <th>product_url</th>\n",
       "      <th>product_photo</th>\n",
       "      <th>...</th>\n",
       "      <th>is_best_seller</th>\n",
       "      <th>is_amazon_choice</th>\n",
       "      <th>is_prime</th>\n",
       "      <th>climate_pledge_friendly</th>\n",
       "      <th>sales_volume</th>\n",
       "      <th>delivery</th>\n",
       "      <th>has_variations</th>\n",
       "      <th>product_availability</th>\n",
       "      <th>unit_price</th>\n",
       "      <th>unit_count</th>\n",
       "    </tr>\n",
       "  </thead>\n",
       "  <tbody>\n",
       "    <tr>\n",
       "      <th>0</th>\n",
       "      <td>0</td>\n",
       "      <td>B0BQ118F2T</td>\n",
       "      <td>Moto G Play 2023 3-Day Battery Unlocked Made f...</td>\n",
       "      <td>$99.99</td>\n",
       "      <td>$169.99</td>\n",
       "      <td>USD</td>\n",
       "      <td>4.0</td>\n",
       "      <td>2929</td>\n",
       "      <td>https://www.amazon.com/dp/B0BQ118F2T</td>\n",
       "      <td>https://m.media-amazon.com/images/I/61K1Fz5Lxv...</td>\n",
       "      <td>...</td>\n",
       "      <td>False</td>\n",
       "      <td>False</td>\n",
       "      <td>True</td>\n",
       "      <td>False</td>\n",
       "      <td>6K+ bought in past month</td>\n",
       "      <td>FREE delivery Tue, Aug 6</td>\n",
       "      <td>True</td>\n",
       "      <td>NaN</td>\n",
       "      <td>NaN</td>\n",
       "      <td>NaN</td>\n",
       "    </tr>\n",
       "    <tr>\n",
       "      <th>1</th>\n",
       "      <td>1</td>\n",
       "      <td>B0CTD47P22</td>\n",
       "      <td>SAMSUNG Galaxy A15 5G (SM-156M/DSN), 128GB 6GB...</td>\n",
       "      <td>$149.74</td>\n",
       "      <td>$158.00</td>\n",
       "      <td>USD</td>\n",
       "      <td>4.2</td>\n",
       "      <td>135</td>\n",
       "      <td>https://www.amazon.com/dp/B0CTD47P22</td>\n",
       "      <td>https://m.media-amazon.com/images/I/51QhB2CfqS...</td>\n",
       "      <td>...</td>\n",
       "      <td>False</td>\n",
       "      <td>False</td>\n",
       "      <td>True</td>\n",
       "      <td>False</td>\n",
       "      <td>3K+ bought in past month</td>\n",
       "      <td>FREE delivery Wed, Aug 7 Only 7 left in stock ...</td>\n",
       "      <td>False</td>\n",
       "      <td>Only 7 left in stock - order soon.</td>\n",
       "      <td>NaN</td>\n",
       "      <td>NaN</td>\n",
       "    </tr>\n",
       "  </tbody>\n",
       "</table>\n",
       "<p>2 rows × 22 columns</p>\n",
       "</div>"
      ],
      "text/plain": [
       "   Unnamed: 0        asin                                      product_title  \\\n",
       "0           0  B0BQ118F2T  Moto G Play 2023 3-Day Battery Unlocked Made f...   \n",
       "1           1  B0CTD47P22  SAMSUNG Galaxy A15 5G (SM-156M/DSN), 128GB 6GB...   \n",
       "\n",
       "  product_price product_original_price currency  product_star_rating  \\\n",
       "0        $99.99                $169.99      USD                  4.0   \n",
       "1       $149.74                $158.00      USD                  4.2   \n",
       "\n",
       "   product_num_ratings                           product_url  \\\n",
       "0                 2929  https://www.amazon.com/dp/B0BQ118F2T   \n",
       "1                  135  https://www.amazon.com/dp/B0CTD47P22   \n",
       "\n",
       "                                       product_photo  ...  is_best_seller  \\\n",
       "0  https://m.media-amazon.com/images/I/61K1Fz5Lxv...  ...           False   \n",
       "1  https://m.media-amazon.com/images/I/51QhB2CfqS...  ...           False   \n",
       "\n",
       "  is_amazon_choice  is_prime  climate_pledge_friendly  \\\n",
       "0            False      True                    False   \n",
       "1            False      True                    False   \n",
       "\n",
       "               sales_volume  \\\n",
       "0  6K+ bought in past month   \n",
       "1  3K+ bought in past month   \n",
       "\n",
       "                                            delivery has_variations  \\\n",
       "0                           FREE delivery Tue, Aug 6           True   \n",
       "1  FREE delivery Wed, Aug 7 Only 7 left in stock ...          False   \n",
       "\n",
       "                 product_availability  unit_price unit_count  \n",
       "0                                 NaN         NaN        NaN  \n",
       "1  Only 7 left in stock - order soon.         NaN        NaN  \n",
       "\n",
       "[2 rows x 22 columns]"
      ]
     },
     "execution_count": 42,
     "metadata": {},
     "output_type": "execute_result"
    }
   ],
   "source": [
    "df.head(2)"
   ]
  },
  {
   "cell_type": "code",
   "execution_count": 43,
   "id": "b32cfd0f-56c4-49ae-b7db-8fa0b8152a48",
   "metadata": {},
   "outputs": [
    {
     "data": {
      "text/plain": [
       "'$70.61'"
      ]
     },
     "execution_count": 43,
     "metadata": {},
     "output_type": "execute_result"
    }
   ],
   "source": [
    "df[\"product_price\"][10]"
   ]
  },
  {
   "cell_type": "code",
   "execution_count": 44,
   "id": "a1e703c3-a9dd-463a-a591-24d87f6b8d2f",
   "metadata": {},
   "outputs": [
    {
     "name": "stdout",
     "output_type": "stream",
     "text": [
      "<class 'pandas.core.frame.DataFrame'>\n",
      "RangeIndex: 64 entries, 0 to 63\n",
      "Data columns (total 22 columns):\n",
      " #   Column                       Non-Null Count  Dtype  \n",
      "---  ------                       --------------  -----  \n",
      " 0   Unnamed: 0                   64 non-null     int64  \n",
      " 1   asin                         64 non-null     object \n",
      " 2   product_title                64 non-null     object \n",
      " 3   product_price                64 non-null     object \n",
      " 4   product_original_price       27 non-null     object \n",
      " 5   currency                     64 non-null     object \n",
      " 6   product_star_rating          54 non-null     float64\n",
      " 7   product_num_ratings          64 non-null     int64  \n",
      " 8   product_url                  64 non-null     object \n",
      " 9   product_photo                64 non-null     object \n",
      " 10  product_num_offers           64 non-null     int64  \n",
      " 11  product_minimum_offer_price  64 non-null     object \n",
      " 12  is_best_seller               64 non-null     bool   \n",
      " 13  is_amazon_choice             64 non-null     bool   \n",
      " 14  is_prime                     64 non-null     bool   \n",
      " 15  climate_pledge_friendly      64 non-null     bool   \n",
      " 16  sales_volume                 61 non-null     object \n",
      " 17  delivery                     63 non-null     object \n",
      " 18  has_variations               64 non-null     bool   \n",
      " 19  product_availability         1 non-null      object \n",
      " 20  unit_price                   5 non-null      object \n",
      " 21  unit_count                   5 non-null      float64\n",
      "dtypes: bool(5), float64(2), int64(3), object(12)\n",
      "memory usage: 8.9+ KB\n"
     ]
    }
   ],
   "source": [
    "df.info()"
   ]
  },
  {
   "cell_type": "code",
   "execution_count": 45,
   "id": "77186470-e1e5-4fc3-bf8b-1e0f6560f8a9",
   "metadata": {},
   "outputs": [
    {
     "data": {
      "text/html": [
       "<div>\n",
       "<style scoped>\n",
       "    .dataframe tbody tr th:only-of-type {\n",
       "        vertical-align: middle;\n",
       "    }\n",
       "\n",
       "    .dataframe tbody tr th {\n",
       "        vertical-align: top;\n",
       "    }\n",
       "\n",
       "    .dataframe thead th {\n",
       "        text-align: right;\n",
       "    }\n",
       "</style>\n",
       "<table border=\"1\" class=\"dataframe\">\n",
       "  <thead>\n",
       "    <tr style=\"text-align: right;\">\n",
       "      <th></th>\n",
       "      <th>Unnamed: 0</th>\n",
       "      <th>product_star_rating</th>\n",
       "      <th>product_num_ratings</th>\n",
       "      <th>product_num_offers</th>\n",
       "      <th>unit_count</th>\n",
       "    </tr>\n",
       "  </thead>\n",
       "  <tbody>\n",
       "    <tr>\n",
       "      <th>count</th>\n",
       "      <td>64.000000</td>\n",
       "      <td>54.000000</td>\n",
       "      <td>6.400000e+01</td>\n",
       "      <td>64.000000</td>\n",
       "      <td>5.000000</td>\n",
       "    </tr>\n",
       "    <tr>\n",
       "      <th>mean</th>\n",
       "      <td>31.500000</td>\n",
       "      <td>4.244444</td>\n",
       "      <td>5.210164e+04</td>\n",
       "      <td>4.859375</td>\n",
       "      <td>15.200000</td>\n",
       "    </tr>\n",
       "    <tr>\n",
       "      <th>std</th>\n",
       "      <td>18.618987</td>\n",
       "      <td>0.558187</td>\n",
       "      <td>1.576855e+05</td>\n",
       "      <td>8.145243</td>\n",
       "      <td>25.390943</td>\n",
       "    </tr>\n",
       "    <tr>\n",
       "      <th>min</th>\n",
       "      <td>0.000000</td>\n",
       "      <td>1.800000</td>\n",
       "      <td>0.000000e+00</td>\n",
       "      <td>1.000000</td>\n",
       "      <td>0.000000</td>\n",
       "    </tr>\n",
       "    <tr>\n",
       "      <th>25%</th>\n",
       "      <td>15.750000</td>\n",
       "      <td>4.100000</td>\n",
       "      <td>4.775000e+01</td>\n",
       "      <td>1.000000</td>\n",
       "      <td>2.000000</td>\n",
       "    </tr>\n",
       "    <tr>\n",
       "      <th>50%</th>\n",
       "      <td>31.500000</td>\n",
       "      <td>4.400000</td>\n",
       "      <td>9.675000e+02</td>\n",
       "      <td>1.000000</td>\n",
       "      <td>3.000000</td>\n",
       "    </tr>\n",
       "    <tr>\n",
       "      <th>75%</th>\n",
       "      <td>47.250000</td>\n",
       "      <td>4.600000</td>\n",
       "      <td>1.384625e+04</td>\n",
       "      <td>4.000000</td>\n",
       "      <td>11.000000</td>\n",
       "    </tr>\n",
       "    <tr>\n",
       "      <th>max</th>\n",
       "      <td>63.000000</td>\n",
       "      <td>4.800000</td>\n",
       "      <td>1.015448e+06</td>\n",
       "      <td>34.000000</td>\n",
       "      <td>60.000000</td>\n",
       "    </tr>\n",
       "  </tbody>\n",
       "</table>\n",
       "</div>"
      ],
      "text/plain": [
       "       Unnamed: 0  product_star_rating  product_num_ratings  \\\n",
       "count   64.000000            54.000000         6.400000e+01   \n",
       "mean    31.500000             4.244444         5.210164e+04   \n",
       "std     18.618987             0.558187         1.576855e+05   \n",
       "min      0.000000             1.800000         0.000000e+00   \n",
       "25%     15.750000             4.100000         4.775000e+01   \n",
       "50%     31.500000             4.400000         9.675000e+02   \n",
       "75%     47.250000             4.600000         1.384625e+04   \n",
       "max     63.000000             4.800000         1.015448e+06   \n",
       "\n",
       "       product_num_offers  unit_count  \n",
       "count           64.000000    5.000000  \n",
       "mean             4.859375   15.200000  \n",
       "std              8.145243   25.390943  \n",
       "min              1.000000    0.000000  \n",
       "25%              1.000000    2.000000  \n",
       "50%              1.000000    3.000000  \n",
       "75%              4.000000   11.000000  \n",
       "max             34.000000   60.000000  "
      ]
     },
     "execution_count": 45,
     "metadata": {},
     "output_type": "execute_result"
    }
   ],
   "source": [
    "df.describe()"
   ]
  },
  {
   "cell_type": "code",
   "execution_count": 46,
   "id": "ff3b7c07-97c7-4d35-8d1e-d8aee000a423",
   "metadata": {},
   "outputs": [
    {
     "data": {
      "text/plain": [
       "(64, 22)"
      ]
     },
     "execution_count": 46,
     "metadata": {},
     "output_type": "execute_result"
    }
   ],
   "source": [
    "df.shape"
   ]
  },
  {
   "cell_type": "code",
   "execution_count": 47,
   "id": "be6005b4-11d7-492d-8d1e-530bd7aa2806",
   "metadata": {},
   "outputs": [
    {
     "data": {
      "text/plain": [
       "Index(['Unnamed: 0', 'asin', 'product_title', 'product_price',\n",
       "       'product_original_price', 'currency', 'product_star_rating',\n",
       "       'product_num_ratings', 'product_url', 'product_photo',\n",
       "       'product_num_offers', 'product_minimum_offer_price', 'is_best_seller',\n",
       "       'is_amazon_choice', 'is_prime', 'climate_pledge_friendly',\n",
       "       'sales_volume', 'delivery', 'has_variations', 'product_availability',\n",
       "       'unit_price', 'unit_count'],\n",
       "      dtype='object')"
      ]
     },
     "execution_count": 47,
     "metadata": {},
     "output_type": "execute_result"
    }
   ],
   "source": [
    "df.columns"
   ]
  },
  {
   "cell_type": "code",
   "execution_count": 48,
   "id": "8df4247e-bb5e-4be0-a761-f3f6b8c6c13d",
   "metadata": {},
   "outputs": [
    {
     "data": {
      "text/plain": [
       "'\\nDeleting unnecessary columns\\nRenaming the columns\\nDropping duplicates\\nRemoveing Null Values from the dataset\\nChecking for some morer Transformations\\n'"
      ]
     },
     "execution_count": 48,
     "metadata": {},
     "output_type": "execute_result"
    }
   ],
   "source": [
    "'''\n",
    "Deleting unnecessary columns\n",
    "Renaming the columns\n",
    "Dropping duplicates\n",
    "Removeing Null Values from the dataset\n",
    "Checking for some morer Transformations\n",
    "'''"
   ]
  },
  {
   "cell_type": "code",
   "execution_count": 49,
   "id": "54da1d73-37bb-478a-b0d5-6e0b03de6bab",
   "metadata": {},
   "outputs": [],
   "source": [
    "df.drop(columns=['Unnamed: 0','asin','product_url','product_photo',\n",
    "       'product_num_offers','product_minimum_offer_price','is_amazon_choice', 'is_prime', 'climate_pledge_friendly',\n",
    "       'sales_volume', 'delivery', 'has_variations'],inplace=True)"
   ]
  },
  {
   "cell_type": "code",
   "execution_count": 50,
   "id": "9bf9d358-0c9d-4b36-9af2-883b37c182c8",
   "metadata": {},
   "outputs": [
    {
     "data": {
      "text/html": [
       "<div>\n",
       "<style scoped>\n",
       "    .dataframe tbody tr th:only-of-type {\n",
       "        vertical-align: middle;\n",
       "    }\n",
       "\n",
       "    .dataframe tbody tr th {\n",
       "        vertical-align: top;\n",
       "    }\n",
       "\n",
       "    .dataframe thead th {\n",
       "        text-align: right;\n",
       "    }\n",
       "</style>\n",
       "<table border=\"1\" class=\"dataframe\">\n",
       "  <thead>\n",
       "    <tr style=\"text-align: right;\">\n",
       "      <th></th>\n",
       "      <th>product_title</th>\n",
       "      <th>product_price</th>\n",
       "      <th>product_original_price</th>\n",
       "      <th>currency</th>\n",
       "      <th>product_star_rating</th>\n",
       "      <th>product_num_ratings</th>\n",
       "      <th>is_best_seller</th>\n",
       "      <th>product_availability</th>\n",
       "      <th>unit_price</th>\n",
       "      <th>unit_count</th>\n",
       "    </tr>\n",
       "  </thead>\n",
       "  <tbody>\n",
       "    <tr>\n",
       "      <th>0</th>\n",
       "      <td>Moto G Play 2023 3-Day Battery Unlocked Made f...</td>\n",
       "      <td>$99.99</td>\n",
       "      <td>$169.99</td>\n",
       "      <td>USD</td>\n",
       "      <td>4.0</td>\n",
       "      <td>2929</td>\n",
       "      <td>False</td>\n",
       "      <td>NaN</td>\n",
       "      <td>NaN</td>\n",
       "      <td>NaN</td>\n",
       "    </tr>\n",
       "    <tr>\n",
       "      <th>1</th>\n",
       "      <td>SAMSUNG Galaxy A15 5G (SM-156M/DSN), 128GB 6GB...</td>\n",
       "      <td>$149.74</td>\n",
       "      <td>$158.00</td>\n",
       "      <td>USD</td>\n",
       "      <td>4.2</td>\n",
       "      <td>135</td>\n",
       "      <td>False</td>\n",
       "      <td>Only 7 left in stock - order soon.</td>\n",
       "      <td>NaN</td>\n",
       "      <td>NaN</td>\n",
       "    </tr>\n",
       "    <tr>\n",
       "      <th>2</th>\n",
       "      <td>Total by Verizon | Samsung Galaxy A03s | Locke...</td>\n",
       "      <td>$49.88</td>\n",
       "      <td>NaN</td>\n",
       "      <td>USD</td>\n",
       "      <td>3.9</td>\n",
       "      <td>205</td>\n",
       "      <td>False</td>\n",
       "      <td>NaN</td>\n",
       "      <td>NaN</td>\n",
       "      <td>NaN</td>\n",
       "    </tr>\n",
       "    <tr>\n",
       "      <th>3</th>\n",
       "      <td>Google Pixel 7a - Unlocked Android Cell Phone ...</td>\n",
       "      <td>$335.00</td>\n",
       "      <td>$499.00</td>\n",
       "      <td>USD</td>\n",
       "      <td>4.3</td>\n",
       "      <td>2248</td>\n",
       "      <td>False</td>\n",
       "      <td>NaN</td>\n",
       "      <td>NaN</td>\n",
       "      <td>NaN</td>\n",
       "    </tr>\n",
       "    <tr>\n",
       "      <th>4</th>\n",
       "      <td>SAMSUNG Galaxy A15 5G A Series Cell Phone, 128...</td>\n",
       "      <td>$199.99</td>\n",
       "      <td>NaN</td>\n",
       "      <td>USD</td>\n",
       "      <td>4.1</td>\n",
       "      <td>423</td>\n",
       "      <td>False</td>\n",
       "      <td>NaN</td>\n",
       "      <td>NaN</td>\n",
       "      <td>NaN</td>\n",
       "    </tr>\n",
       "    <tr>\n",
       "      <th>...</th>\n",
       "      <td>...</td>\n",
       "      <td>...</td>\n",
       "      <td>...</td>\n",
       "      <td>...</td>\n",
       "      <td>...</td>\n",
       "      <td>...</td>\n",
       "      <td>...</td>\n",
       "      <td>...</td>\n",
       "      <td>...</td>\n",
       "      <td>...</td>\n",
       "    </tr>\n",
       "    <tr>\n",
       "      <th>59</th>\n",
       "      <td>Greatish Hits: I Followed My Dreams and My Dre...</td>\n",
       "      <td>$34.98</td>\n",
       "      <td>NaN</td>\n",
       "      <td>USD</td>\n",
       "      <td>NaN</td>\n",
       "      <td>0</td>\n",
       "      <td>False</td>\n",
       "      <td>NaN</td>\n",
       "      <td>NaN</td>\n",
       "      <td>NaN</td>\n",
       "    </tr>\n",
       "    <tr>\n",
       "      <th>60</th>\n",
       "      <td>Swan Song</td>\n",
       "      <td>$14.99</td>\n",
       "      <td>$30.00</td>\n",
       "      <td>USD</td>\n",
       "      <td>4.4</td>\n",
       "      <td>14471</td>\n",
       "      <td>True</td>\n",
       "      <td>NaN</td>\n",
       "      <td>NaN</td>\n",
       "      <td>NaN</td>\n",
       "    </tr>\n",
       "    <tr>\n",
       "      <th>61</th>\n",
       "      <td>Bluey: Let&amp;#x27;s Play!</td>\n",
       "      <td>$0.00</td>\n",
       "      <td>NaN</td>\n",
       "      <td>USD</td>\n",
       "      <td>3.5</td>\n",
       "      <td>270</td>\n",
       "      <td>False</td>\n",
       "      <td>NaN</td>\n",
       "      <td>NaN</td>\n",
       "      <td>NaN</td>\n",
       "    </tr>\n",
       "    <tr>\n",
       "      <th>62</th>\n",
       "      <td>Xbox Wireless Controller – Sky Cipher Special ...</td>\n",
       "      <td>$69.99</td>\n",
       "      <td>NaN</td>\n",
       "      <td>USD</td>\n",
       "      <td>2.6</td>\n",
       "      <td>12</td>\n",
       "      <td>True</td>\n",
       "      <td>NaN</td>\n",
       "      <td>NaN</td>\n",
       "      <td>NaN</td>\n",
       "    </tr>\n",
       "    <tr>\n",
       "      <th>63</th>\n",
       "      <td>HP DeskJet 2855e Wireless All-in-One Color Ink...</td>\n",
       "      <td>$59.99</td>\n",
       "      <td>$84.99</td>\n",
       "      <td>USD</td>\n",
       "      <td>4.0</td>\n",
       "      <td>48154</td>\n",
       "      <td>True</td>\n",
       "      <td>NaN</td>\n",
       "      <td>NaN</td>\n",
       "      <td>NaN</td>\n",
       "    </tr>\n",
       "  </tbody>\n",
       "</table>\n",
       "<p>64 rows × 10 columns</p>\n",
       "</div>"
      ],
      "text/plain": [
       "                                        product_title product_price  \\\n",
       "0   Moto G Play 2023 3-Day Battery Unlocked Made f...        $99.99   \n",
       "1   SAMSUNG Galaxy A15 5G (SM-156M/DSN), 128GB 6GB...       $149.74   \n",
       "2   Total by Verizon | Samsung Galaxy A03s | Locke...        $49.88   \n",
       "3   Google Pixel 7a - Unlocked Android Cell Phone ...       $335.00   \n",
       "4   SAMSUNG Galaxy A15 5G A Series Cell Phone, 128...       $199.99   \n",
       "..                                                ...           ...   \n",
       "59  Greatish Hits: I Followed My Dreams and My Dre...        $34.98   \n",
       "60                                          Swan Song        $14.99   \n",
       "61                            Bluey: Let&#x27;s Play!         $0.00   \n",
       "62  Xbox Wireless Controller – Sky Cipher Special ...        $69.99   \n",
       "63  HP DeskJet 2855e Wireless All-in-One Color Ink...        $59.99   \n",
       "\n",
       "   product_original_price currency  product_star_rating  product_num_ratings  \\\n",
       "0                 $169.99      USD                  4.0                 2929   \n",
       "1                 $158.00      USD                  4.2                  135   \n",
       "2                     NaN      USD                  3.9                  205   \n",
       "3                 $499.00      USD                  4.3                 2248   \n",
       "4                     NaN      USD                  4.1                  423   \n",
       "..                    ...      ...                  ...                  ...   \n",
       "59                    NaN      USD                  NaN                    0   \n",
       "60                 $30.00      USD                  4.4                14471   \n",
       "61                    NaN      USD                  3.5                  270   \n",
       "62                    NaN      USD                  2.6                   12   \n",
       "63                 $84.99      USD                  4.0                48154   \n",
       "\n",
       "    is_best_seller                product_availability unit_price  unit_count  \n",
       "0            False                                 NaN        NaN         NaN  \n",
       "1            False  Only 7 left in stock - order soon.        NaN         NaN  \n",
       "2            False                                 NaN        NaN         NaN  \n",
       "3            False                                 NaN        NaN         NaN  \n",
       "4            False                                 NaN        NaN         NaN  \n",
       "..             ...                                 ...        ...         ...  \n",
       "59           False                                 NaN        NaN         NaN  \n",
       "60            True                                 NaN        NaN         NaN  \n",
       "61           False                                 NaN        NaN         NaN  \n",
       "62            True                                 NaN        NaN         NaN  \n",
       "63            True                                 NaN        NaN         NaN  \n",
       "\n",
       "[64 rows x 10 columns]"
      ]
     },
     "execution_count": 50,
     "metadata": {},
     "output_type": "execute_result"
    }
   ],
   "source": [
    "df"
   ]
  },
  {
   "cell_type": "code",
   "execution_count": 51,
   "id": "3106061c-dd58-46fa-94dd-db137a869f67",
   "metadata": {},
   "outputs": [
    {
     "data": {
      "text/plain": [
       "Index(['product_title', 'product_price', 'product_original_price', 'currency',\n",
       "       'product_star_rating', 'product_num_ratings', 'is_best_seller',\n",
       "       'product_availability', 'unit_price', 'unit_count'],\n",
       "      dtype='object')"
      ]
     },
     "execution_count": 51,
     "metadata": {},
     "output_type": "execute_result"
    }
   ],
   "source": [
    "df.columns"
   ]
  },
  {
   "cell_type": "code",
   "execution_count": 52,
   "id": "cace1d86-0a34-42e5-8146-950b98c29a71",
   "metadata": {},
   "outputs": [],
   "source": [
    "df_new_column_names=[]\n",
    "\n",
    "for i in df:\n",
    "    df_new_column_names.append(i.capitalize())"
   ]
  },
  {
   "cell_type": "code",
   "execution_count": 53,
   "id": "26008d55-3708-4db8-a6cf-ca768040665a",
   "metadata": {},
   "outputs": [
    {
     "data": {
      "text/plain": [
       "['Product_title',\n",
       " 'Product_price',\n",
       " 'Product_original_price',\n",
       " 'Currency',\n",
       " 'Product_star_rating',\n",
       " 'Product_num_ratings',\n",
       " 'Is_best_seller',\n",
       " 'Product_availability',\n",
       " 'Unit_price',\n",
       " 'Unit_count']"
      ]
     },
     "execution_count": 53,
     "metadata": {},
     "output_type": "execute_result"
    }
   ],
   "source": [
    "df_new_column_names"
   ]
  },
  {
   "cell_type": "code",
   "execution_count": 54,
   "id": "93ac5b94-bfdb-494e-9e09-ae6ee2b84237",
   "metadata": {},
   "outputs": [],
   "source": [
    "df.columns=df_new_column_names"
   ]
  },
  {
   "cell_type": "code",
   "execution_count": 55,
   "id": "d1bedeb9-f98e-42ec-99a9-33b8ea33a13f",
   "metadata": {},
   "outputs": [
    {
     "data": {
      "text/plain": [
       "Index(['Product_title', 'Product_price', 'Product_original_price', 'Currency',\n",
       "       'Product_star_rating', 'Product_num_ratings', 'Is_best_seller',\n",
       "       'Product_availability', 'Unit_price', 'Unit_count'],\n",
       "      dtype='object')"
      ]
     },
     "execution_count": 55,
     "metadata": {},
     "output_type": "execute_result"
    }
   ],
   "source": [
    "df.columns"
   ]
  },
  {
   "cell_type": "code",
   "execution_count": 56,
   "id": "66d5cf51-883b-4e04-a0e5-19c0e5611645",
   "metadata": {},
   "outputs": [
    {
     "data": {
      "text/plain": [
       "0"
      ]
     },
     "execution_count": 56,
     "metadata": {},
     "output_type": "execute_result"
    }
   ],
   "source": [
    "df.duplicated().sum()"
   ]
  },
  {
   "cell_type": "code",
   "execution_count": 57,
   "id": "24c16309-0b34-42f8-a85a-565ff93523a5",
   "metadata": {},
   "outputs": [],
   "source": [
    "#if we had any duplicates we can do \n",
    "#df.drop_duplicates(inplace=True)"
   ]
  },
  {
   "cell_type": "code",
   "execution_count": 58,
   "id": "2c60f303-0a4e-4f68-a596-ad6a789c9cf4",
   "metadata": {},
   "outputs": [
    {
     "data": {
      "text/plain": [
       "Product_title              0\n",
       "Product_price              0\n",
       "Product_original_price    37\n",
       "Currency                   0\n",
       "Product_star_rating       10\n",
       "Product_num_ratings        0\n",
       "Is_best_seller             0\n",
       "Product_availability      63\n",
       "Unit_price                59\n",
       "Unit_count                59\n",
       "dtype: int64"
      ]
     },
     "execution_count": 58,
     "metadata": {},
     "output_type": "execute_result"
    }
   ],
   "source": [
    "df.isna().sum()"
   ]
  },
  {
   "cell_type": "code",
   "execution_count": 63,
   "id": "b4e6fc9b-d77b-4b71-8f2f-845481ad24a6",
   "metadata": {},
   "outputs": [],
   "source": [
    "df=df[[\"Product_title\",\"Product_price\",\"Currency\",\"Product_star_rating\",\"Product_num_ratings\",\"Is_best_seller\"]]"
   ]
  },
  {
   "cell_type": "code",
   "execution_count": 64,
   "id": "9ef2c686-4dbc-4f54-8fa5-6e44711e973a",
   "metadata": {},
   "outputs": [
    {
     "data": {
      "text/plain": [
       "Index(['Product_title', 'Product_price', 'Currency', 'Product_star_rating',\n",
       "       'Product_num_ratings', 'Is_best_seller'],\n",
       "      dtype='object')"
      ]
     },
     "execution_count": 64,
     "metadata": {},
     "output_type": "execute_result"
    }
   ],
   "source": [
    "df.columns"
   ]
  },
  {
   "cell_type": "code",
   "execution_count": 65,
   "id": "fec57304-5f27-4f54-9619-63c293b6810e",
   "metadata": {},
   "outputs": [
    {
     "data": {
      "text/plain": [
       "Product_title           0\n",
       "Product_price           0\n",
       "Currency                0\n",
       "Product_star_rating    10\n",
       "Product_num_ratings     0\n",
       "Is_best_seller          0\n",
       "dtype: int64"
      ]
     },
     "execution_count": 65,
     "metadata": {},
     "output_type": "execute_result"
    }
   ],
   "source": [
    "df.isna().sum()"
   ]
  },
  {
   "cell_type": "code",
   "execution_count": 80,
   "id": "a9ab6242-0a20-48b6-a165-0aafa059aea1",
   "metadata": {},
   "outputs": [],
   "source": [
    "import warnings\n",
    "warnings.filterwarnings(\"ignore\")"
   ]
  },
  {
   "cell_type": "code",
   "execution_count": 82,
   "id": "196fe127-2d14-4593-8403-d9a7d451561c",
   "metadata": {},
   "outputs": [],
   "source": [
    "df.fillna(\"Product_star_rating\",inplace=True)\n",
    "#or we can do df.dropna(inplace=True)"
   ]
  },
  {
   "cell_type": "code",
   "execution_count": 83,
   "id": "4192e66b-53d7-4188-8b6d-ba367b2cc4cb",
   "metadata": {},
   "outputs": [
    {
     "data": {
      "text/plain": [
       "Product_title          0\n",
       "Product_price          0\n",
       "Currency               0\n",
       "Product_star_rating    0\n",
       "Product_num_ratings    0\n",
       "Is_best_seller         0\n",
       "dtype: int64"
      ]
     },
     "execution_count": 83,
     "metadata": {},
     "output_type": "execute_result"
    }
   ],
   "source": [
    "df.isna().sum()"
   ]
  },
  {
   "cell_type": "code",
   "execution_count": 84,
   "id": "16b488a7-39e2-43da-92be-cedf7ccb1ae6",
   "metadata": {},
   "outputs": [
    {
     "data": {
      "text/html": [
       "<div>\n",
       "<style scoped>\n",
       "    .dataframe tbody tr th:only-of-type {\n",
       "        vertical-align: middle;\n",
       "    }\n",
       "\n",
       "    .dataframe tbody tr th {\n",
       "        vertical-align: top;\n",
       "    }\n",
       "\n",
       "    .dataframe thead th {\n",
       "        text-align: right;\n",
       "    }\n",
       "</style>\n",
       "<table border=\"1\" class=\"dataframe\">\n",
       "  <thead>\n",
       "    <tr style=\"text-align: right;\">\n",
       "      <th></th>\n",
       "      <th>Product_title</th>\n",
       "      <th>Product_price</th>\n",
       "      <th>Currency</th>\n",
       "      <th>Product_star_rating</th>\n",
       "      <th>Product_num_ratings</th>\n",
       "      <th>Is_best_seller</th>\n",
       "    </tr>\n",
       "  </thead>\n",
       "  <tbody>\n",
       "    <tr>\n",
       "      <th>0</th>\n",
       "      <td>Moto G Play 2023 3-Day Battery Unlocked Made f...</td>\n",
       "      <td>$99.99</td>\n",
       "      <td>USD</td>\n",
       "      <td>4.0</td>\n",
       "      <td>2929</td>\n",
       "      <td>False</td>\n",
       "    </tr>\n",
       "  </tbody>\n",
       "</table>\n",
       "</div>"
      ],
      "text/plain": [
       "                                       Product_title Product_price Currency  \\\n",
       "0  Moto G Play 2023 3-Day Battery Unlocked Made f...        $99.99      USD   \n",
       "\n",
       "  Product_star_rating  Product_num_ratings  Is_best_seller  \n",
       "0                 4.0                 2929           False  "
      ]
     },
     "execution_count": 84,
     "metadata": {},
     "output_type": "execute_result"
    }
   ],
   "source": [
    "df.head(1)"
   ]
  },
  {
   "cell_type": "code",
   "execution_count": 86,
   "id": "0d59eed1-ad91-4d76-9216-9d322cca7ab2",
   "metadata": {},
   "outputs": [
    {
     "data": {
      "text/plain": [
       "0     0\n",
       "1     0\n",
       "2     0\n",
       "3     0\n",
       "4     0\n",
       "     ..\n",
       "59    0\n",
       "60    1\n",
       "61    0\n",
       "62    1\n",
       "63    1\n",
       "Name: Is_best_seller, Length: 64, dtype: int64"
      ]
     },
     "execution_count": 86,
     "metadata": {},
     "output_type": "execute_result"
    }
   ],
   "source": [
    "df[\"Is_best_seller\"].apply (lambda x:1 if x==True else 0)"
   ]
  },
  {
   "cell_type": "code",
   "execution_count": 89,
   "id": "80f1edd0-98e5-422a-8035-b2003a2e12d7",
   "metadata": {},
   "outputs": [],
   "source": [
    "df[\"Product_price\"]=df[\"Product_price\"].str.replace(\"$\",\"\")"
   ]
  },
  {
   "cell_type": "code",
   "execution_count": 90,
   "id": "5b9bb19a-3f2b-46a5-b1ab-42eddffc4518",
   "metadata": {},
   "outputs": [
    {
     "data": {
      "text/plain": [
       "0      99.99\n",
       "1     149.74\n",
       "2      49.88\n",
       "3     335.00\n",
       "4     199.99\n",
       "       ...  \n",
       "59     34.98\n",
       "60     14.99\n",
       "61      0.00\n",
       "62     69.99\n",
       "63     59.99\n",
       "Name: Product_price, Length: 64, dtype: object"
      ]
     },
     "execution_count": 90,
     "metadata": {},
     "output_type": "execute_result"
    }
   ],
   "source": [
    "df[\"Product_price\"]"
   ]
  },
  {
   "cell_type": "code",
   "execution_count": 98,
   "id": "2712d8e5-31da-4904-8e1c-a2a69ba43687",
   "metadata": {},
   "outputs": [],
   "source": [
    "df[\"Product_price\"]=df[\"Product_price\"].astype(float)"
   ]
  },
  {
   "cell_type": "code",
   "execution_count": 99,
   "id": "d1f85bbd-9903-4abc-9523-5b1633493c6c",
   "metadata": {},
   "outputs": [
    {
     "data": {
      "text/plain": [
       "0      99.99\n",
       "1     149.74\n",
       "2      49.88\n",
       "3     335.00\n",
       "4     199.99\n",
       "       ...  \n",
       "59     34.98\n",
       "60     14.99\n",
       "61      0.00\n",
       "62     69.99\n",
       "63     59.99\n",
       "Name: Product_price, Length: 64, dtype: float64"
      ]
     },
     "execution_count": 99,
     "metadata": {},
     "output_type": "execute_result"
    }
   ],
   "source": [
    "df[\"Product_price\"]"
   ]
  },
  {
   "cell_type": "code",
   "execution_count": 100,
   "id": "afe41bcb-0887-4028-8fa6-67339883f6d7",
   "metadata": {},
   "outputs": [],
   "source": [
    "df[\"Product_price\"]=df[\"Product_price\"].apply(lambda x: round(x))"
   ]
  },
  {
   "cell_type": "code",
   "execution_count": 101,
   "id": "e172e582-2340-4d58-81e2-5df54c95d031",
   "metadata": {},
   "outputs": [
    {
     "data": {
      "text/plain": [
       "0     100\n",
       "1     150\n",
       "2      50\n",
       "3     335\n",
       "4     200\n",
       "     ... \n",
       "59     35\n",
       "60     15\n",
       "61      0\n",
       "62     70\n",
       "63     60\n",
       "Name: Product_price, Length: 64, dtype: int64"
      ]
     },
     "execution_count": 101,
     "metadata": {},
     "output_type": "execute_result"
    }
   ],
   "source": [
    "df[\"Product_price\"]"
   ]
  },
  {
   "cell_type": "code",
   "execution_count": null,
   "id": "44532787-5956-4596-bc22-923214d0ae8d",
   "metadata": {},
   "outputs": [],
   "source": [
    "# if we want to export dataset \n",
    "#data.to_excel(\"Cleaned_data_amazon.xslx\")  || for xslx file\n",
    "#data.to_csv(\"Cleaned_data_amazon.csv\")"
   ]
  }
 ],
 "metadata": {
  "kernelspec": {
   "display_name": "Python 3 (ipykernel)",
   "language": "python",
   "name": "python3"
  },
  "language_info": {
   "codemirror_mode": {
    "name": "ipython",
    "version": 3
   },
   "file_extension": ".py",
   "mimetype": "text/x-python",
   "name": "python",
   "nbconvert_exporter": "python",
   "pygments_lexer": "ipython3",
   "version": "3.11.7"
  }
 },
 "nbformat": 4,
 "nbformat_minor": 5
}
